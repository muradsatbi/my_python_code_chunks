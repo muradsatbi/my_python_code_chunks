{
 "cells": [
  {
   "cell_type": "markdown",
   "id": "04adde2c",
   "metadata": {},
   "source": [
    "Function for bmi determination"
   ]
  },
  {
   "cell_type": "code",
   "execution_count": 1,
   "id": "50ad1a31",
   "metadata": {},
   "outputs": [],
   "source": [
    "def bmi(weight, height):\n",
    "    bmi = weight /(height ** 2)\n",
    "    if bmi <= 18.5:\n",
    "        bmi_diagnoses = 'Underweight'\n",
    "    elif bmi <= 25:\n",
    "        bmi_diagnoses = 'Normal'\n",
    "    elif bmi <= 30:\n",
    "        bmi_diagnoses = 'Overweight'\n",
    "    elif bmi > 30:\n",
    "        bmi_diagnoses = 'Obese'\n",
    "    return bmi_diagnoses"
   ]
  },
  {
   "cell_type": "code",
   "execution_count": 2,
   "id": "4769d357",
   "metadata": {},
   "outputs": [
    {
     "data": {
      "text/plain": [
       "'Obese'"
      ]
     },
     "execution_count": 2,
     "metadata": {},
     "output_type": "execute_result"
    }
   ],
   "source": [
    "bmi(99.9 , 1.79)"
   ]
  },
  {
   "cell_type": "code",
   "execution_count": null,
   "id": "4ffc43e7",
   "metadata": {},
   "outputs": [],
   "source": []
  }
 ],
 "metadata": {
  "kernelspec": {
   "display_name": "Python 3 (ipykernel)",
   "language": "python",
   "name": "python3"
  },
  "language_info": {
   "codemirror_mode": {
    "name": "ipython",
    "version": 3
   },
   "file_extension": ".py",
   "mimetype": "text/x-python",
   "name": "python",
   "nbconvert_exporter": "python",
   "pygments_lexer": "ipython3",
   "version": "3.9.7"
  }
 },
 "nbformat": 4,
 "nbformat_minor": 5
}
