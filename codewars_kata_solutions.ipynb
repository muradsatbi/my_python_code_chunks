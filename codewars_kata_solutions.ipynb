{
 "cells": [
  {
   "cell_type": "markdown",
   "id": "a5fd4cad",
   "metadata": {},
   "source": [
    "###"
   ]
  },
  {
   "cell_type": "markdown",
   "id": "5aa1acc9",
   "metadata": {},
   "source": [
    "Write function bmi that calculates body mass index (bmi = weight / height2).\n",
    "\n",
    "if bmi <= 18.5 return \"Underweight\"\n",
    "\n",
    "if bmi <= 25.0 return \"Normal\"\n",
    "\n",
    "if bmi <= 30.0 return \"Overweight\"\n",
    "\n",
    "if bmi > 30 return \"Obese\""
   ]
  },
  {
   "cell_type": "code",
   "execution_count": 1,
   "id": "8de297f7",
   "metadata": {},
   "outputs": [
    {
     "name": "stdout",
     "output_type": "stream",
     "text": [
      "Obese\n"
     ]
    }
   ],
   "source": [
    "def bmi(weight, height):\n",
    "    bmi = weight /(height ** 2)\n",
    "    if bmi <= 18.5:\n",
    "        bmi_diagnoses = 'Underweight'\n",
    "    elif bmi <= 25:\n",
    "        bmi_diagnoses = 'Normal'\n",
    "    elif bmi <= 30:\n",
    "        bmi_diagnoses = 'Overweight'\n",
    "    elif bmi > 30:\n",
    "        bmi_diagnoses = 'Obese'\n",
    "    return bmi_diagnoses\n",
    "\n",
    "print(bmi(101.7, 1.70))"
   ]
  },
  {
   "cell_type": "markdown",
   "id": "a8133fce",
   "metadata": {},
   "source": [
    "###"
   ]
  },
  {
   "cell_type": "markdown",
   "id": "f671a7d9",
   "metadata": {},
   "source": [
    "Jack really likes his number five: the trick here is that you have to multiply each number by 5 raised to the number of digits of each numbers, so, for example:\n",
    "- multiply(3)==15 // 3 * 5¹\n",
    "- multiply(10)==250 // 10 * 5²\n",
    "- multiply(200)==25000 // 200 * 5³"
   ]
  },
  {
   "cell_type": "code",
   "execution_count": 2,
   "id": "da6a55f8",
   "metadata": {
    "scrolled": true
   },
   "outputs": [
    {
     "name": "stdout",
     "output_type": "stream",
     "text": [
      "15\n",
      "250\n",
      "13750\n"
     ]
    }
   ],
   "source": [
    "def multiply(n):\n",
    "    return n * 5 ** (len(str(n)))\n",
    "\n",
    "\n",
    "print(multiply(3))\n",
    "print(multiply(10))\n",
    "print(multiply(110))"
   ]
  },
  {
   "cell_type": "markdown",
   "id": "6040ac73",
   "metadata": {},
   "source": [
    "###"
   ]
  },
  {
   "cell_type": "markdown",
   "id": "0d296615",
   "metadata": {},
   "source": [
    "Write a function named setAlarm which receives two parameters. The first parameter, employed, is true whenever you are employed and the second parameter, vacation is true whenever you are on vacation.\n",
    "\n",
    "The function should return true if you are employed and not on vacation (because these are the circumstances under which you need to set an alarm). It should return false otherwise. Examples:\n",
    "\n",
    "- setAlarm(true, true) -> false\n",
    "- setAlarm(false, true) -> false\n",
    "- setAlarm(false, false) -> false\n",
    "- setAlarm(true, false) -> true"
   ]
  },
  {
   "cell_type": "code",
   "execution_count": 3,
   "id": "20735ad6",
   "metadata": {},
   "outputs": [],
   "source": [
    "def set_alarm(employed, vacation):\n",
    "    if employed and not vacation:\n",
    "        status = True\n",
    "    else:\n",
    "        status = False\n",
    "    return status"
   ]
  },
  {
   "cell_type": "markdown",
   "id": "9357d6cd",
   "metadata": {},
   "source": [
    "###"
   ]
  },
  {
   "cell_type": "markdown",
   "id": "b29b3471",
   "metadata": {},
   "source": [
    "Your function takes two arguments:\n",
    "\n",
    "- current father's age (years)\n",
    "- current age of his son (years)\n",
    "\n",
    "Сalculate how many years ago the father was twice as old as his son (or in how many years he will be twice as old)."
   ]
  },
  {
   "cell_type": "code",
   "execution_count": 4,
   "id": "13901099",
   "metadata": {},
   "outputs": [
    {
     "name": "stdout",
     "output_type": "stream",
     "text": [
      "35\n"
     ]
    }
   ],
   "source": [
    "def twice_as_old(father, son):\n",
    "    i = 0\n",
    "    if son == 0:\n",
    "        i = father\n",
    "    else:\n",
    "        while father / son > 2.0:\n",
    "            father += 1\n",
    "            son += 1\n",
    "            i += 1\n",
    "        while father / son < 2.0:\n",
    "            father -= 1\n",
    "            son -= 1\n",
    "            i += 1\n",
    "    return i\n",
    "\n",
    "\n",
    "print(twice_as_old(43, 4))"
   ]
  },
  {
   "cell_type": "markdown",
   "id": "a119e908",
   "metadata": {},
   "source": [
    "###"
   ]
  },
  {
   "cell_type": "markdown",
   "id": "7cc94c96",
   "metadata": {},
   "source": [
    "Given 2 elevators (named \"left\" and \"right\") in a building with 3 floors (numbered 0 to 2), write a function elevator accepting 3 arguments (in order):\n",
    "\n",
    "left - The current floor of the left elevator\n",
    "right - The current floor of the right elevator\n",
    "call - The floor that called an elevator\n",
    "It should return the name of the elevator closest to the called floor (\"left\"/\"right\").\n",
    "\n",
    "In the case where both elevators are equally distant from the called floor, choose the elevator to the right.\n",
    "\n",
    "You can assume that the inputs will always be valid integers between 0-2."
   ]
  },
  {
   "cell_type": "code",
   "execution_count": 5,
   "id": "d804f889",
   "metadata": {},
   "outputs": [
    {
     "name": "stdout",
     "output_type": "stream",
     "text": [
      "left\n",
      "right\n",
      "right\n"
     ]
    }
   ],
   "source": [
    "def elevator(left, right, call):\n",
    "    dif_l = int(((call - left) ** 2) ** 0.5)\n",
    "    dif_r = int(((call - right) ** 2) ** 0.5)\n",
    "    if dif_l < dif_r:\n",
    "        return 'left'\n",
    "    else:\n",
    "        return 'right'\n",
    "\n",
    "    \n",
    "print(elevator(0, 1, 0))\n",
    "print(elevator(0, 1, 1))\n",
    "print(elevator(0, 2, 1))"
   ]
  },
  {
   "cell_type": "markdown",
   "id": "081f4a1c",
   "metadata": {},
   "source": [
    "###"
   ]
  },
  {
   "cell_type": "markdown",
   "id": "cb925a41",
   "metadata": {},
   "source": [
    "In this Kata you are expected to find the coefficients of quadratic equation of the given two roots (x1 and x2).\n",
    "\n",
    "Equation will be the form of ax^2 + bx + c = 0\n",
    "\n",
    "Return type is a Vector (tuple in Rust, Array in Ruby) containing coefficients of the equations in the order (a, b, c).\n",
    "\n",
    "Since there are infinitely many solutions to this problem, we fix a = 1.\n",
    "\n",
    "Remember, the roots can be written like (x-x1) * (x-x2) = 0"
   ]
  },
  {
   "cell_type": "code",
   "execution_count": 6,
   "id": "09d8623c",
   "metadata": {},
   "outputs": [],
   "source": [
    "def quadratic(x1, x2):\n",
    "    return (1, - (x1 + x2), x1 * x2)"
   ]
  },
  {
   "cell_type": "markdown",
   "id": "c5c9db75",
   "metadata": {},
   "source": [
    "###"
   ]
  },
  {
   "cell_type": "markdown",
   "id": "d5f71804",
   "metadata": {},
   "source": [
    "Wolves have been reintroduced to Great Britain. You are a sheep farmer, and are now plagued by wolves which pretend to be sheep. Fortunately, you are good at spotting them.\n",
    "\n",
    "Warn the sheep in front of the wolf that it is about to be eaten. Remember that you are standing at the front of the queue which is at the end of the array:\n",
    "\n",
    "[sheep, sheep, sheep, sheep, sheep, wolf, sheep, sheep]      \n",
    "(YOU ARE HERE AT THE FRONT OF THE QUEUE)\n",
    "\n",
    "   7      6      5      4      3            2      1\n",
    "   \n",
    "If the wolf is the closest animal to you, return \"Pls go away and stop eating my sheep\". Otherwise, return \"Oi! Sheep number N! You are about to be eaten by a wolf!\" where N is the sheep's position in the queue.\n",
    "\n",
    "Note: there will always be exactly one wolf in the array."
   ]
  },
  {
   "cell_type": "code",
   "execution_count": 7,
   "id": "8a6bb86a",
   "metadata": {},
   "outputs": [],
   "source": [
    "def warn_the_sheep(queue):\n",
    "    if queue[-1] == 'wolf':\n",
    "        return \"Pls go away and stop eating my sheep\"\n",
    "    else:\n",
    "        index_r = len(queue) - queue.index('wolf') - 1 \n",
    "        return f\"Oi! Sheep number {index_r}! \\\n",
    "        You are about to be eaten by a wolf!\""
   ]
  },
  {
   "cell_type": "markdown",
   "id": "b4d36ec9",
   "metadata": {},
   "source": [
    "###"
   ]
  },
  {
   "cell_type": "markdown",
   "id": "a7f7ba9d",
   "metadata": {},
   "source": [
    "There are pillars near the road. The distance between the pillars is the same and the width of the pillars is the same. Your function accepts three arguments:\n",
    "\n",
    "- number of pillars (≥ 1);\n",
    "- distance between pillars (10 - 30 meters);\n",
    "- width of the pillar (10 - 50 centimeters).\n",
    "\n",
    "Calculate the distance between the first and the last pillar in centimeters (without the width of the first and last pillar)."
   ]
  },
  {
   "cell_type": "code",
   "execution_count": 8,
   "id": "ada390d4",
   "metadata": {},
   "outputs": [],
   "source": [
    "def pillars(num_pill, dist, width):\n",
    "    if num_pill <= 1:\n",
    "        return 0\n",
    "    return (num_pill - 1) * dist * 100 + (num_pill - 2) * width "
   ]
  },
  {
   "cell_type": "markdown",
   "id": "7af14867",
   "metadata": {},
   "source": [
    "###"
   ]
  },
  {
   "cell_type": "markdown",
   "id": "e01712b0",
   "metadata": {},
   "source": [
    "Given a month as an integer from 1 to 12, return to which quarter of the year it belongs as an integer number.\n",
    "\n",
    "For example: month 2 (February), is part of the first quarter; month 6 (June), is part of the second quarter; and month 11 (November), is part of the fourth quarter."
   ]
  },
  {
   "cell_type": "code",
   "execution_count": 9,
   "id": "39550450",
   "metadata": {},
   "outputs": [
    {
     "name": "stdout",
     "output_type": "stream",
     "text": [
      "4\n",
      "2\n"
     ]
    }
   ],
   "source": [
    "def quarter_of(month):\n",
    "    return int(month / 3) + 1 * (month % 3 != 0)\n",
    "\n",
    "\n",
    "print(quarter_of(11))\n",
    "print(quarter_of(4))"
   ]
  },
  {
   "cell_type": "markdown",
   "id": "ed8a4bed",
   "metadata": {},
   "source": [
    "###"
   ]
  },
  {
   "cell_type": "markdown",
   "id": "a266838c",
   "metadata": {},
   "source": [
    "Add two logs with base X, with the value of A and B. Example log A + log B where the base is X."
   ]
  },
  {
   "cell_type": "code",
   "execution_count": 10,
   "id": "df40d5e8",
   "metadata": {
    "scrolled": true
   },
   "outputs": [
    {
     "name": "stdout",
     "output_type": "stream",
     "text": [
      "7.0\n"
     ]
    }
   ],
   "source": [
    "from math import log\n",
    "def logs(x, a, b):\n",
    "    return log(a * b, x)\n",
    "\n",
    "\n",
    "print(logs(3, 27, 81))"
   ]
  },
  {
   "cell_type": "markdown",
   "id": "9ce389f3",
   "metadata": {},
   "source": [
    "###"
   ]
  },
  {
   "cell_type": "markdown",
   "id": "25348fce",
   "metadata": {},
   "source": [
    "Given a number n, draw stairs using the letter \"I\", n tall and n wide, with the tallest in the top left."
   ]
  },
  {
   "cell_type": "code",
   "execution_count": 11,
   "id": "71285c26",
   "metadata": {},
   "outputs": [
    {
     "name": "stdout",
     "output_type": "stream",
     "text": [
      "I\n",
      " I\n",
      "  I\n"
     ]
    }
   ],
   "source": [
    "def draw_stairs(n):\n",
    "    a =''\n",
    "    i = 0\n",
    "    while i != n:\n",
    "        i += 1\n",
    "        a += 'I'\n",
    "        if i == n:\n",
    "            break\n",
    "        a += '\\n'\n",
    "        a += i * ' '\n",
    "    return a\n",
    "\n",
    "\n",
    "print(draw_stairs(3))"
   ]
  },
  {
   "cell_type": "markdown",
   "id": "3ab03888",
   "metadata": {},
   "source": [
    "###"
   ]
  },
  {
   "cell_type": "markdown",
   "id": "c5bae5f6",
   "metadata": {},
   "source": [
    "Your task is to create the functionisDivideBy (or is_divide_by) to check if an integer number is divisible by both integers a and b."
   ]
  },
  {
   "cell_type": "code",
   "execution_count": 12,
   "id": "ff4aaf68",
   "metadata": {
    "scrolled": true
   },
   "outputs": [
    {
     "name": "stdout",
     "output_type": "stream",
     "text": [
      "False\n",
      "True\n"
     ]
    }
   ],
   "source": [
    "def is_divide_by(number, a, b):\n",
    "    return bool((number % a == 0) * (number % b == 0))\n",
    "\n",
    "print(is_divide_by(24, 3, 5))\n",
    "print(is_divide_by(-12, 2, -6))"
   ]
  },
  {
   "cell_type": "markdown",
   "id": "f71b0a21",
   "metadata": {},
   "source": [
    "###"
   ]
  },
  {
   "cell_type": "markdown",
   "id": "a000aa58",
   "metadata": {},
   "source": [
    "Welcome. In this kata, you are asked to square every digit of a number and concatenate them.\n",
    "\n",
    "For example, if we run 9119 through the function, 811181 will come out, because 92 is 81 and 12 is 1.\n",
    "\n",
    "Note: The function accepts an integer and returns an integer"
   ]
  },
  {
   "cell_type": "code",
   "execution_count": 13,
   "id": "3b0694ed",
   "metadata": {
    "scrolled": true
   },
   "outputs": [
    {
     "name": "stdout",
     "output_type": "stream",
     "text": [
      "811181\n"
     ]
    }
   ],
   "source": [
    "def square_digits(num):\n",
    "    res = ''\n",
    "    for i in range(len(str(num))):\n",
    "        n = num % 10\n",
    "        sq = n ** 2\n",
    "        res = str(sq) + res\n",
    "        num = num // 10\n",
    "    return int(res)\n",
    "\n",
    "\n",
    "print(square_digits(9119))"
   ]
  },
  {
   "cell_type": "markdown",
   "id": "fd87a6fe",
   "metadata": {},
   "source": [
    "###"
   ]
  },
  {
   "cell_type": "markdown",
   "id": "6c313886",
   "metadata": {},
   "source": [
    "If you can't sleep, just count sheep!!\n",
    "\n",
    "Task:\n",
    "Given a non-negative integer, 3 for example, return a string with a murmur: \"1 sheep...2 sheep...3 sheep...\". Input will always be valid, i.e. no negative integers."
   ]
  },
  {
   "cell_type": "code",
   "execution_count": 14,
   "id": "b524cddd",
   "metadata": {},
   "outputs": [
    {
     "name": "stdout",
     "output_type": "stream",
     "text": [
      "1 sheep...2 sheep...3 sheep...4 sheep...5 sheep...6 sheep...7 sheep...8 sheep...9 sheep...10 sheep...\n"
     ]
    }
   ],
   "source": [
    "def count_sheep(n):\n",
    "    murmur = ''\n",
    "    for i in range(1, n + 1):\n",
    "        murmur += str(i) + ' sheep...'\n",
    "    return murmur\n",
    "\n",
    "print(count_sheep(10))"
   ]
  },
  {
   "cell_type": "markdown",
   "id": "edea474e",
   "metadata": {},
   "source": [
    "###"
   ]
  },
  {
   "cell_type": "markdown",
   "id": "710ba1f4",
   "metadata": {},
   "source": [
    "Given three integers a ,b ,c, return the largest number obtained after inserting the following operators and brackets: +, *, ()\n",
    "In other words , try every combination of a,b,c with [*+()] , and return the Maximum Obtained"
   ]
  },
  {
   "cell_type": "code",
   "execution_count": 15,
   "id": "03c34bed",
   "metadata": {},
   "outputs": [
    {
     "name": "stdout",
     "output_type": "stream",
     "text": [
      "24\n",
      "10\n"
     ]
    }
   ],
   "source": [
    "def expression_matter(a, b ,c):\n",
    "    v_1 = a + b + c\n",
    "    v_2 = a * b * c\n",
    "    v_3 = a * b + c\n",
    "    v_4 = a + b * c\n",
    "    v_5 = a * (b + c)\n",
    "    v_6 = (a + b) * c\n",
    "    vars_0 = (v_1, v_2, v_3, v_4, v_5, v_6)\n",
    "    res = 0\n",
    "    for var in vars_0:\n",
    "        if var > res:\n",
    "            res = var\n",
    "    return res\n",
    "\n",
    "\n",
    "print(expression_matter(3, 4, 2))\n",
    "print(expression_matter(1, 1, 5))"
   ]
  },
  {
   "cell_type": "markdown",
   "id": "ee3e3af1",
   "metadata": {},
   "source": [
    "###"
   ]
  },
  {
   "cell_type": "markdown",
   "id": "ccd6905c",
   "metadata": {},
   "source": [
    "You are given the length and width of a 4-sided polygon. The polygon can either be a rectangle or a square.\n",
    "If it is a square, return its area. If it is a rectangle, return its perimeter."
   ]
  },
  {
   "cell_type": "code",
   "execution_count": 16,
   "id": "eb6289f3",
   "metadata": {},
   "outputs": [
    {
     "name": "stdout",
     "output_type": "stream",
     "text": [
      "16\n",
      "14\n"
     ]
    }
   ],
   "source": [
    "def area_or_perimeter(l , w):\n",
    "    if l == w:\n",
    "        return l * w\n",
    "    return 2 * (l + w)\n",
    "\n",
    "\n",
    "print(area_or_perimeter(4, 4))\n",
    "print(area_or_perimeter(3, 4))"
   ]
  },
  {
   "cell_type": "markdown",
   "id": "f75e7e45",
   "metadata": {},
   "source": [
    "###"
   ]
  },
  {
   "cell_type": "markdown",
   "id": "1f906f84",
   "metadata": {},
   "source": [
    "Our football team finished the championship. The result of each match look like \"x:y\". Results of all matches are recorded in the collection.\n",
    "\n",
    "For example: [\"3:1\", \"2:2\", \"0:1\", ...]\n",
    "\n",
    "Write a function that takes such collection and counts the points of our team in the championship. Rules for counting points for each match:\n",
    "\n",
    "- if x > y: 3 points\n",
    "- if x < y: 0 point\n",
    "- if x = y: 1 point"
   ]
  },
  {
   "cell_type": "code",
   "execution_count": 17,
   "id": "8556f72c",
   "metadata": {},
   "outputs": [
    {
     "name": "stdout",
     "output_type": "stream",
     "text": [
      "4\n"
     ]
    }
   ],
   "source": [
    "def points(args):\n",
    "    total = 0\n",
    "    for i in args:\n",
    "        x = i[0]\n",
    "        y = i[-1]\n",
    "        if x > y:\n",
    "            total += 3\n",
    "        elif x == y:\n",
    "            total +=1\n",
    "    return total\n",
    "\n",
    "\n",
    "print(points([\"3:1\", \"2:2\", \"0:1\"]))"
   ]
  },
  {
   "cell_type": "markdown",
   "id": "a4bf92b7",
   "metadata": {},
   "source": [
    "###"
   ]
  },
  {
   "cell_type": "markdown",
   "id": "3c11c113",
   "metadata": {},
   "source": [
    "This function should return a number (final grade). There are four types of final grades:\n",
    "\n",
    "- 100, if a grade for the exam is more than 90 or if a number of completed projects more than 10.\n",
    "- 90, if a grade for the exam is more than 75 and if a number of completed projects is minimum 5.\n",
    "- 75, if a grade for the exam is more than 50 and if a number of completed projects is minimum 2.\n",
    "- 0, in other cases"
   ]
  },
  {
   "cell_type": "code",
   "execution_count": 18,
   "id": "67ee0950",
   "metadata": {},
   "outputs": [
    {
     "name": "stdout",
     "output_type": "stream",
     "text": [
      "75\n"
     ]
    }
   ],
   "source": [
    "def final_grade(rate, projs):\n",
    "    if rate > 90 or projs > 10:\n",
    "        return 100\n",
    "    elif rate > 75 and projs >= 5:\n",
    "        return 90\n",
    "    elif rate > 50 and projs >= 2:\n",
    "        return 75\n",
    "    else:\n",
    "        return 0\n",
    "    \n",
    "    \n",
    "print(final_grade(76, 4))"
   ]
  },
  {
   "cell_type": "markdown",
   "id": "4f53398a",
   "metadata": {},
   "source": [
    "###"
   ]
  },
  {
   "cell_type": "markdown",
   "id": "9a7fa4c4",
   "metadata": {},
   "source": [
    "Your task is to find the nearest square number, nearest_sq(n), of a positive integer n."
   ]
  },
  {
   "cell_type": "code",
   "execution_count": 19,
   "id": "f728b761",
   "metadata": {},
   "outputs": [
    {
     "name": "stdout",
     "output_type": "stream",
     "text": [
      "16\n"
     ]
    }
   ],
   "source": [
    "def nearest_sq(n):\n",
    "    sqrt = n ** (1/2)\n",
    "    if sqrt == int(sqrt):\n",
    "        return n\n",
    "    comp = sqrt - int(sqrt) < int(sqrt) + 1 - sqrt\n",
    "    if comp:\n",
    "        return int(sqrt) ** 2\n",
    "    return (int(sqrt) + 1) ** 2\n",
    "\n",
    "\n",
    "print(nearest_sq(17))"
   ]
  },
  {
   "cell_type": "markdown",
   "id": "6fdc36d7",
   "metadata": {},
   "source": [
    "###"
   ]
  },
  {
   "cell_type": "markdown",
   "id": "9a0cf998",
   "metadata": {},
   "source": [
    "Cat Years\n",
    "- 15 cat years for first year\n",
    "- +9 cat years for second year\n",
    "- +4 cat years for each year after that\n",
    "\n",
    "Dog Years\n",
    "- 15 dog years for first year\n",
    "- +9 dog years for second year\n",
    "- +5 dog years for each year after that"
   ]
  },
  {
   "cell_type": "code",
   "execution_count": 20,
   "id": "c2beea98",
   "metadata": {},
   "outputs": [
    {
     "name": "stdout",
     "output_type": "stream",
     "text": [
      "[30, 136, 164]\n"
     ]
    }
   ],
   "source": [
    "def human_years_cat_years_dog_years(human_years):\n",
    "    cat_years = 0\n",
    "    dog_years = 0\n",
    "    for year in range(1, human_years + 1):\n",
    "        if year == 1:\n",
    "            cat_years += 15\n",
    "            dog_years += 15\n",
    "        elif year == 2:\n",
    "            cat_years += 9\n",
    "            dog_years += 9\n",
    "        else:\n",
    "            cat_years += 4\n",
    "            dog_years += 5\n",
    "\n",
    "    return [human_years, cat_years, dog_years]\n",
    "\n",
    "\n",
    "print(human_years_cat_years_dog_years(30))"
   ]
  },
  {
   "cell_type": "markdown",
   "id": "287f14fe",
   "metadata": {},
   "source": [
    "###"
   ]
  },
  {
   "cell_type": "markdown",
   "id": "b054f9b0",
   "metadata": {},
   "source": [
    "All of the animals are having a feast! Each animal is bringing one dish. There is just one rule: the dish must start and end with the same letters as the animal's name. For example, the great blue heron is bringing garlic naan and the chickadee is bringing chocolate cake.\n",
    "\n",
    "Write a function feast that takes the animal's name and dish as arguments and returns true or false to indicate whether the beast is allowed to bring the dish to the feast.\n",
    "\n",
    "Assume that beast and dish are always lowercase strings, and that each has at least two letters. beast and dish may contain hyphens and spaces, but these will not appear at the beginning or end of the string. They will not contain numerals."
   ]
  },
  {
   "cell_type": "code",
   "execution_count": 21,
   "id": "7eb00e4c",
   "metadata": {},
   "outputs": [],
   "source": [
    "def feast(beast, dish):\n",
    "    if beast[0] == dish[0] and beast[-1] == dish[-1]:\n",
    "        return True\n",
    "    return False"
   ]
  },
  {
   "cell_type": "markdown",
   "id": "e6748bef",
   "metadata": {},
   "source": [
    "###"
   ]
  },
  {
   "cell_type": "markdown",
   "id": "38d40f7c",
   "metadata": {},
   "source": [
    "Your goal is to return multiplication table for number that is always an integer from 1 to 10."
   ]
  },
  {
   "cell_type": "code",
   "execution_count": 22,
   "id": "66c4eccc",
   "metadata": {},
   "outputs": [
    {
     "name": "stdout",
     "output_type": "stream",
     "text": [
      "1 * 6 = 6\n",
      "2 * 6 = 12\n",
      "3 * 6 = 18\n",
      "4 * 6 = 24\n",
      "5 * 6 = 30\n",
      "6 * 6 = 36\n",
      "7 * 6 = 42\n",
      "8 * 6 = 48\n",
      "9 * 6 = 54\n",
      "10 * 6 = 60\n"
     ]
    }
   ],
   "source": [
    "def multi_table(number):\n",
    "    table = ''\n",
    "    for num in range (1, 11):\n",
    "        mult = f'{num} * {number} = {num * number}\\n'\n",
    "        table += mult\n",
    "    table = table[:-1]\n",
    "    return table\n",
    "\n",
    "\n",
    "print(multi_table(6))"
   ]
  },
  {
   "cell_type": "markdown",
   "id": "75ccde76",
   "metadata": {},
   "source": [
    "###"
   ]
  },
  {
   "cell_type": "markdown",
   "id": "71827fd8",
   "metadata": {},
   "source": [
    "Write a function that will check if two given characters are the same case.\n",
    "\n",
    "- If either of the characters is not a letter, return -1\n",
    "- If both characters are the same case, return 1\n",
    "- If both characters are letters, but not the same case, return 0"
   ]
  },
  {
   "cell_type": "code",
   "execution_count": 23,
   "id": "5b277985",
   "metadata": {},
   "outputs": [],
   "source": [
    "def same_case(a, b):\n",
    "    if a.isalpha() and b.isalpha():\n",
    "        if a.islower() and b.islower() or a.isupper() and b.isupper():\n",
    "            return 1\n",
    "        return 0\n",
    "    return -1"
   ]
  },
  {
   "cell_type": "markdown",
   "id": "cac68bab",
   "metadata": {},
   "source": [
    "###"
   ]
  },
  {
   "cell_type": "markdown",
   "id": "36d5c6cd",
   "metadata": {},
   "source": [
    "Jason can't find his textbook! It is two days before the test date, and Jason's textbooks are all out of order! Help him sort a list (ArrayList in java) full of textbooks by subject, so he can study before the test.\n",
    "\n",
    "The sorting should NOT be case sensitive"
   ]
  },
  {
   "cell_type": "code",
   "execution_count": 24,
   "id": "0ec50fd2",
   "metadata": {},
   "outputs": [],
   "source": [
    "def sorter(textbooks):\n",
    "    return sorted(textbooks, \n",
    "                  key=lambda x: list(map(lambda y: y[0].lower(), x)))"
   ]
  },
  {
   "cell_type": "markdown",
   "id": "a6e12fb6",
   "metadata": {},
   "source": [
    "###"
   ]
  },
  {
   "cell_type": "markdown",
   "id": "e53c83c8",
   "metadata": {},
   "source": [
    "You are the owner of a box making company.\n",
    "\n",
    "Your company can produce any equal sided polygon box, but plenty of your customers want to transport circular objects in these boxes. Circles are a very common shape in the consumer industry. Tin cans, glasses, tyres and CD's are a few examples of these.\n",
    "\n",
    "As a result you decide to add this information on your boxes: The largest (diameter) circular object that can fit into a given box."
   ]
  },
  {
   "cell_type": "code",
   "execution_count": 25,
   "id": "95cba356",
   "metadata": {},
   "outputs": [
    {
     "name": "stdout",
     "output_type": "stream",
     "text": [
      "20.765213965723362\n"
     ]
    }
   ],
   "source": [
    "from math import tan, radians\n",
    "\n",
    "def circle_diameter(sides, side_length):\n",
    "    return side_length * tan(radians(90) * (sides - 2) / sides)\n",
    "\n",
    "\n",
    "print(circle_diameter(7, 10))"
   ]
  },
  {
   "cell_type": "markdown",
   "id": "e6bba528",
   "metadata": {},
   "source": [
    "###"
   ]
  },
  {
   "cell_type": "markdown",
   "id": "852149ec",
   "metadata": {},
   "source": [
    "Given a positive integer n: 0 < n < 1e6, remove the last digit until you're left with a number that is a multiple of three.\n",
    "\n",
    "Return n if the input is already a multiple of three, and if no such number exists, return null, a similar empty value, or -1."
   ]
  },
  {
   "cell_type": "code",
   "execution_count": 26,
   "id": "8787d994",
   "metadata": {},
   "outputs": [
    {
     "name": "stdout",
     "output_type": "stream",
     "text": [
      "33\n"
     ]
    }
   ],
   "source": [
    "def prev_mult_of_three(n):\n",
    "    while True:\n",
    "        if n == 0:\n",
    "            return None\n",
    "        elif n % 3 == 0:\n",
    "            return n\n",
    "        else:\n",
    "            n = n // 10\n",
    "            \n",
    "            \n",
    "print(prev_mult_of_three(331))"
   ]
  },
  {
   "cell_type": "markdown",
   "id": "3a221a90",
   "metadata": {},
   "source": [
    "###"
   ]
  },
  {
   "cell_type": "markdown",
   "id": "f2a97963",
   "metadata": {},
   "source": [
    "You are given a string of letters and an array of numbers.\n",
    "The numbers indicate positions of letters that must be removed, in order, starting from the beginning of the array.\n",
    "After each removal the size of the string decreases (there is no empty space).\n",
    "Return the only letter left."
   ]
  },
  {
   "cell_type": "code",
   "execution_count": 27,
   "id": "f85cb674",
   "metadata": {},
   "outputs": [],
   "source": [
    "def last_survivor(letters, coords):\n",
    "    letters = list(letters)\n",
    "    while coords:\n",
    "        letters.pop(coords[0])\n",
    "        coords.remove(coords[0])\n",
    "    return letters[0]"
   ]
  },
  {
   "cell_type": "markdown",
   "id": "d2e5656e",
   "metadata": {},
   "source": [
    "###"
   ]
  },
  {
   "cell_type": "markdown",
   "id": "e028abd1",
   "metadata": {},
   "source": [
    "You'll be passed an array of objects (list) - you must sort them in descending order based on the value of the specified property (sortBy)."
   ]
  },
  {
   "cell_type": "code",
   "execution_count": 28,
   "id": "7d3c78ba",
   "metadata": {},
   "outputs": [
    {
     "name": "stdout",
     "output_type": "stream",
     "text": [
      "[{'a': 2, 'b': 40}, {'a': 4, 'b': 12}, {'a': 1, 'b': 3}, {'a': 3, 'b': 2}]\n"
     ]
    }
   ],
   "source": [
    "def sort_list(sort_by, lst):\n",
    "    return sorted(lst, key=lambda x: x[sort_by], reverse=True)\n",
    "\n",
    "\n",
    "print(sort_list('b', [\n",
    "  {\"a\": 1, \"b\": 3},\n",
    "  {\"a\": 3, \"b\": 2},\n",
    "  {\"a\": 2, \"b\": 40},\n",
    "  {\"a\": 4, \"b\": 12}\n",
    "]))"
   ]
  }
 ],
 "metadata": {
  "kernelspec": {
   "display_name": "Python 3 (ipykernel)",
   "language": "python",
   "name": "python3"
  },
  "language_info": {
   "codemirror_mode": {
    "name": "ipython",
    "version": 3
   },
   "file_extension": ".py",
   "mimetype": "text/x-python",
   "name": "python",
   "nbconvert_exporter": "python",
   "pygments_lexer": "ipython3",
   "version": "3.9.7"
  }
 },
 "nbformat": 4,
 "nbformat_minor": 5
}
